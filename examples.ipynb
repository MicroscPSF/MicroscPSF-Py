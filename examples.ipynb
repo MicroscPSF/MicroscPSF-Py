{
 "cells": [
  {
   "cell_type": "markdown",
   "metadata": {},
   "source": [
    "## Examples of how to use the microscPSF package."
   ]
  },
  {
   "cell_type": "code",
   "execution_count": null,
   "metadata": {},
   "outputs": [],
   "source": [
    "import inspect\n",
    "import numpy\n",
    "import matplotlib.pyplot as pyplot\n",
    "\n",
    "import microscPSF.microscPSF as msPSF\n"
   ]
  },
  {
   "cell_type": "markdown",
   "metadata": {},
   "source": [
    "### Microscope parameters\n",
    "\n",
    "All distance / length parameters are in units of microns."
   ]
  },
  {
   "cell_type": "code",
   "execution_count": null,
   "metadata": {},
   "outputs": [],
   "source": [
    "# Load and print the default microscope parameters.\n",
    "for key in sorted(msPSF.m_params):\n",
    "    print(key, msPSF.m_params[key])\n",
    "print()\n",
    "\n",
    "# You can find more information about what these are in this file:\n",
    "print(inspect.getfile(msPSF))\n"
   ]
  },
  {
   "cell_type": "code",
   "execution_count": null,
   "metadata": {},
   "outputs": [],
   "source": [
    "# We'll use this for drawing PSFs.\n",
    "#\n",
    "# Note that we display the sqrt of the PSF.\n",
    "#\n",
    "def psfSlicePics(psf, sxy, sz, pixel_size = 0.05):\n",
    "    ex = pixel_size * 0.5 * psf.shape[1]\n",
    "    ez = pixel_size * (0.5 * psf.shape[0])\n",
    "\n",
    "    fig = pyplot.figure(figsize = (12,4))\n",
    "    ax1 = fig.add_subplot(1,3,1)\n",
    "    ax1.imshow(numpy.sqrt(psf[sz,:,:]),\n",
    "               interpolation = 'none', \n",
    "               extent = [-ex, ex, -ex, ex],\n",
    "               cmap = \"gray\")\n",
    "    ax1.set_title(\"PSF XY slice\")\n",
    "\n",
    "    ax2 = fig.add_subplot(1,3,2)\n",
    "    ax2.imshow(numpy.sqrt(psf[:,:,sxy]),\n",
    "               interpolation = 'none',\n",
    "               extent = [-ex, ex, -ez, ez],\n",
    "               cmap = \"gray\")\n",
    "    ax2.set_title(\"PSF YZ slice\")\n",
    "\n",
    "    ax3 = fig.add_subplot(1,3,3)\n",
    "    ax3.imshow(numpy.sqrt(psf[:,sxy,:]), \n",
    "               interpolation = 'none',\n",
    "               extent = [-ex, ex, -ez, ez],\n",
    "               cmap = \"gray\")\n",
    "    ax3.set_title(\"PSF XZ slice\")\n",
    "\n",
    "    pyplot.show()"
   ]
  },
  {
   "cell_type": "markdown",
   "metadata": {},
   "source": [
    "### Focus scan PSF\n",
    "\n",
    "Note that we're showing the sqrt of the PSF in all the PSF pictures."
   ]
  },
  {
   "cell_type": "code",
   "execution_count": null,
   "metadata": {},
   "outputs": [],
   "source": [
    "# Radial PSF\n",
    "mp = msPSF.m_params\n",
    "pixel_size = 0.05\n",
    "rv = numpy.arange(0.0, 3.01, pixel_size)\n",
    "zv = numpy.arange(-1.5, 1.51, pixel_size)\n",
    "\n",
    "psf_zr = msPSF.gLZRFocalScan(mp, rv, zv, \n",
    "                             pz = 0.1,       # Particle 0.1um above the surface.\n",
    "                             wvl = 0.7,      # Detection wavelength.\n",
    "                             zd = mp[\"zd0\"]) # Detector exactly at the tube length of the microscope.\n",
    "\n"
   ]
  },
  {
   "cell_type": "code",
   "execution_count": null,
   "metadata": {},
   "outputs": [],
   "source": [
    "fig, ax = pyplot.subplots()\n",
    "\n",
    "ax.imshow(numpy.sqrt(psf_zr),\n",
    "          extent=(rv.min(), rv.max(), zv.max(), zv.min()),\n",
    "          cmap = 'gray')\n",
    "ax.set_xlabel(r'r, $\\mu m$')\n",
    "ax.set_ylabel(r'z, $\\mu m$')\n",
    "\n",
    "pyplot.show()"
   ]
  },
  {
   "cell_type": "code",
   "execution_count": null,
   "metadata": {},
   "outputs": [],
   "source": [
    "# XYZ PSF\n",
    "psf_xyz = msPSF.gLXYZFocalScan(mp, pixel_size, 31, zv)\n"
   ]
  },
  {
   "cell_type": "code",
   "execution_count": null,
   "metadata": {},
   "outputs": [],
   "source": [
    "psfSlicePics(psf_xyz, 15, 30)"
   ]
  },
  {
   "cell_type": "code",
   "execution_count": null,
   "metadata": {},
   "outputs": [],
   "source": []
  }
 ],
 "metadata": {
  "kernelspec": {
   "display_name": "Python 3",
   "language": "python",
   "name": "python3"
  },
  "language_info": {
   "codemirror_mode": {
    "name": "ipython",
    "version": 3
   },
   "file_extension": ".py",
   "mimetype": "text/x-python",
   "name": "python",
   "nbconvert_exporter": "python",
   "pygments_lexer": "ipython3",
   "version": "3.6.3"
  }
 },
 "nbformat": 4,
 "nbformat_minor": 2
}
