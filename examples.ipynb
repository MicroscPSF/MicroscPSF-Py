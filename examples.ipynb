{
 "cells": [
  {
   "cell_type": "markdown",
   "metadata": {},
   "source": [
    "## Examples of how to use the microscPSF package.\n",
    "\n",
    "Notes:\n",
    "* All units are microns.\n",
    "* Particle z position is a positive value relative to the coverslip surface (z = 0.0).\n",
    "* Focusing into the sample is a negative value relative to the coverslip surface (the distance between the objective and the coverslip is reduced).\n"
   ]
  },
  {
   "cell_type": "code",
   "execution_count": null,
   "metadata": {},
   "outputs": [],
   "source": [
    "import inspect\n",
    "import numpy\n",
    "import matplotlib.pyplot as pyplot\n",
    "\n",
    "import microscPSF.microscPSF as msPSF\n"
   ]
  },
  {
   "cell_type": "markdown",
   "metadata": {},
   "source": [
    "### Microscope parameters\n",
    "\n",
    "All distance / length parameters are in units of microns."
   ]
  },
  {
   "cell_type": "code",
   "execution_count": null,
   "metadata": {},
   "outputs": [],
   "source": [
    "# Load and print the default microscope parameters.\n",
    "for key in sorted(msPSF.m_params):\n",
    "    print(key, msPSF.m_params[key])\n",
    "print()\n",
    "\n",
    "# You can find more information about what these are in this file:\n",
    "print(inspect.getfile(msPSF))\n"
   ]
  },
  {
   "cell_type": "code",
   "execution_count": null,
   "metadata": {},
   "outputs": [],
   "source": [
    "# We'll use this for drawing PSFs.\n",
    "#\n",
    "# Note that we display the sqrt of the PSF.\n",
    "#\n",
    "def psfSlicePics(psf, sxy, sz, zvals, pixel_size = 0.05):\n",
    "    ex = pixel_size * 0.5 * psf.shape[1]\n",
    "\n",
    "    fig = pyplot.figure(figsize = (12,4))\n",
    "    ax1 = fig.add_subplot(1,3,1)\n",
    "    ax1.imshow(numpy.sqrt(psf[sz,:,:]),\n",
    "               interpolation = 'none', \n",
    "               extent = [-ex, ex, -ex, ex],\n",
    "               cmap = \"gray\")\n",
    "    ax1.set_title(\"PSF XY slice\")\n",
    "    ax1.set_xlabel(r'x, $\\mu m$')\n",
    "    ax1.set_ylabel(r'y, $\\mu m$')\n",
    "\n",
    "    ax2 = fig.add_subplot(1,3,2)\n",
    "    ax2.imshow(numpy.sqrt(psf[:,:,sxy]),\n",
    "               interpolation = 'none',\n",
    "               extent = [-ex, ex, zvals.max(), zvals.min()],\n",
    "               cmap = \"gray\")\n",
    "    ax2.set_title(\"PSF YZ slice\")\n",
    "    ax2.set_xlabel(r'y, $\\mu m$')\n",
    "    ax2.set_ylabel(r'z, $\\mu m$')\n",
    "\n",
    "    ax3 = fig.add_subplot(1,3,3)\n",
    "    ax3.imshow(numpy.sqrt(psf[:,sxy,:]), \n",
    "               interpolation = 'none',\n",
    "               extent = [-ex, ex, zvals.max(), zvals.min()],\n",
    "               cmap = \"gray\")\n",
    "    ax3.set_title(\"PSF XZ slice\")\n",
    "    ax3.set_xlabel(r'x, $\\mu m$')\n",
    "    ax3.set_ylabel(r'z, $\\mu m$')\n",
    "\n",
    "    pyplot.show()"
   ]
  },
  {
   "cell_type": "markdown",
   "metadata": {},
   "source": [
    "### Focus scan PSF\n",
    "\n",
    "The GL PSF for a fixed particle, scanning the microscope focus.\n",
    "\n",
    "Note that we're showing the sqrt of the PSF in all the PSF pictures."
   ]
  },
  {
   "cell_type": "code",
   "execution_count": null,
   "metadata": {},
   "outputs": [],
   "source": [
    "# Radial PSF\n",
    "mp = msPSF.m_params\n",
    "pixel_size = 0.05\n",
    "rv = numpy.arange(0.0, 3.01, pixel_size)\n",
    "zv = numpy.arange(-1.5, 1.51, pixel_size)\n",
    "\n",
    "psf_zr = msPSF.gLZRFocalScan(mp, rv, zv, \n",
    "                             pz = 0.1,       # Particle 0.1um above the surface.\n",
    "                             wvl = 0.7,      # Detection wavelength.\n",
    "                             zd = mp[\"zd0\"]) # Detector exactly at the tube length of the microscope.\n"
   ]
  },
  {
   "cell_type": "code",
   "execution_count": null,
   "metadata": {},
   "outputs": [],
   "source": [
    "fig, ax = pyplot.subplots()\n",
    "\n",
    "ax.imshow(numpy.sqrt(psf_zr),\n",
    "          extent=(rv.min(), rv.max(), zv.max(), zv.min()),\n",
    "          cmap = 'gray')\n",
    "ax.set_xlabel(r'r, $\\mu m$')\n",
    "ax.set_ylabel(r'z, $\\mu m$')\n",
    "\n",
    "pyplot.show()"
   ]
  },
  {
   "cell_type": "code",
   "execution_count": null,
   "metadata": {},
   "outputs": [],
   "source": [
    "# XYZ PSF\n",
    "psf_xyz = msPSF.gLXYZFocalScan(mp, pixel_size, 31, zv, pz = 0.1)\n"
   ]
  },
  {
   "cell_type": "code",
   "execution_count": null,
   "metadata": {},
   "outputs": [],
   "source": [
    "psfSlicePics(psf_xyz, 15, 30, zv)"
   ]
  },
  {
   "cell_type": "markdown",
   "metadata": {},
   "source": [
    "### Particle scan PSF\n",
    "\n",
    "The GL PSF for a particle scanned through a fixed focus.\n"
   ]
  },
  {
   "cell_type": "code",
   "execution_count": null,
   "metadata": {},
   "outputs": [],
   "source": [
    "# Radial PSF\n",
    "mp = msPSF.m_params\n",
    "pixel_size = 0.05\n",
    "rv = numpy.arange(0.0, 3.01, pixel_size)\n",
    "pv = numpy.arange(0.0, 3.01, pixel_size) # Particle distance above coverslip in microns.\n",
    "\n",
    "psf_zr = msPSF.gLZRParticleScan(mp, rv, pv,  \n",
    "                                wvl = 0.7,      # Detection wavelength.\n",
    "                                zd = mp[\"zd0\"], # Detector exactly at the tube length of the microscope.\n",
    "                                zv = -1.5)      # Microscope focused 1.5um above the coverslip.\n"
   ]
  },
  {
   "cell_type": "code",
   "execution_count": null,
   "metadata": {},
   "outputs": [],
   "source": [
    "fig, ax = pyplot.subplots()\n",
    "\n",
    "ax.imshow(numpy.sqrt(psf_zr),\n",
    "          extent=(rv.min(), rv.max(), pv.max(), pv.min()),\n",
    "          cmap = 'gray')\n",
    "ax.set_xlabel(r'r, $\\mu m$')\n",
    "ax.set_ylabel(r'z, $\\mu m$')\n",
    "\n",
    "pyplot.show()"
   ]
  },
  {
   "cell_type": "code",
   "execution_count": null,
   "metadata": {},
   "outputs": [],
   "source": [
    "# XYZ PSF\n",
    "psf_xyz = msPSF.gLXYZParticleScan(mp, pixel_size, 31, pv, zv = -1.5)\n"
   ]
  },
  {
   "cell_type": "code",
   "execution_count": null,
   "metadata": {},
   "outputs": [],
   "source": [
    "psfSlicePics(psf_xyz, 12, 30, pv)"
   ]
  },
  {
   "cell_type": "code",
   "execution_count": null,
   "metadata": {},
   "outputs": [],
   "source": []
  }
 ],
 "metadata": {
  "kernelspec": {
   "display_name": "Python 3",
   "language": "python",
   "name": "python3"
  },
  "language_info": {
   "codemirror_mode": {
    "name": "ipython",
    "version": 3
   },
   "file_extension": ".py",
   "mimetype": "text/x-python",
   "name": "python",
   "nbconvert_exporter": "python",
   "pygments_lexer": "ipython3",
   "version": "3.6.7"
  }
 },
 "nbformat": 4,
 "nbformat_minor": 2
}
